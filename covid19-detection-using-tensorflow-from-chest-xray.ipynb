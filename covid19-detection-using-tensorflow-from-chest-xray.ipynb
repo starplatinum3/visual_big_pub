{
 "cells": [
  {
   "cell_type": "markdown",
   "execution_count": null,
   "metadata": {
    "id": "sTVhlNtdri3w",
    "papermill": {
     "duration": 0.010431,
     "end_time": "2020-08-28T08:08:04.095233",
     "exception": false,
     "start_time": "2020-08-28T08:08:04.084802",
     "status": "completed"
    },
    "tags": []
   },
   "source": [
    "# **Using Tensorflow for detecting Covid-19 Infected Lungs from Normal Lungs with Chest X-Ray**"
   ]
  },
  {
   "cell_type": "code",
   "execution_count": 1,
   "metadata": {
    "execution": {
     "iopub.execute_input": "2020-08-28T08:08:04.118755Z",
     "iopub.status.busy": "2020-08-28T08:08:04.117992Z",
     "iopub.status.idle": "2020-08-28T08:08:04.121604Z",
     "shell.execute_reply": "2020-08-28T08:08:04.120782Z"
    },
    "id": "FrO_RdeCrCNI",
    "papermill": {
     "duration": 0.017956,
     "end_time": "2020-08-28T08:08:04.121748",
     "exception": false,
     "start_time": "2020-08-28T08:08:04.103792",
     "status": "completed"
    },
    "tags": []
   },
   "outputs": [],
   "source": [
    "import pandas as pd\n",
    "import numpy as np\n",
    "import matplotlib.pyplot as plt\n",
    "import warnings\n",
    "warnings.filterwarnings('ignore')"
   ]
  },
  {
   "cell_type": "code",
   "execution_count": 2,
   "metadata": {
    "execution": {
     "iopub.execute_input": "2020-08-28T08:08:04.145590Z",
     "iopub.status.busy": "2020-08-28T08:08:04.144725Z",
     "iopub.status.idle": "2020-08-28T08:08:11.446544Z",
     "shell.execute_reply": "2020-08-28T08:08:11.445759Z"
    },
    "papermill": {
     "duration": 7.316666,
     "end_time": "2020-08-28T08:08:11.446684",
     "exception": false,
     "start_time": "2020-08-28T08:08:04.130018",
     "status": "completed"
    },
    "tags": []
   },
   "outputs": [],
   "source": [
    "import tensorflow as tf"
   ]
  },
  {
   "cell_type": "code",
   "execution_count": 3,
   "metadata": {
    "execution": {
     "iopub.execute_input": "2020-08-28T08:08:11.468827Z",
     "iopub.status.busy": "2020-08-28T08:08:11.467918Z",
     "iopub.status.idle": "2020-08-28T08:08:11.472643Z",
     "shell.execute_reply": "2020-08-28T08:08:11.471985Z"
    },
    "id": "tVinQ9F7ySj6",
    "papermill": {
     "duration": 0.017761,
     "end_time": "2020-08-28T08:08:11.472781",
     "exception": false,
     "start_time": "2020-08-28T08:08:11.455020",
     "status": "completed"
    },
    "tags": []
   },
   "outputs": [
    {
     "name": "stdout",
     "output_type": "stream",
     "text": [
      "2.3.0\n"
     ]
    }
   ],
   "source": [
    "print(tf.__version__)"
   ]
  },
  {
   "cell_type": "code",
   "execution_count": 4,
   "metadata": {
    "execution": {
     "iopub.execute_input": "2020-08-28T08:08:11.495003Z",
     "iopub.status.busy": "2020-08-28T08:08:11.494202Z",
     "iopub.status.idle": "2020-08-28T08:08:11.497961Z",
     "shell.execute_reply": "2020-08-28T08:08:11.497303Z"
    },
    "papermill": {
     "duration": 0.017048,
     "end_time": "2020-08-28T08:08:11.498085",
     "exception": false,
     "start_time": "2020-08-28T08:08:11.481037",
     "status": "completed"
    },
    "tags": []
   },
   "outputs": [],
   "source": [
    "tf.random.set_seed(12)"
   ]
  },
  {
   "cell_type": "markdown",
   "execution_count": null,
   "metadata": {
    "id": "qKnF2bLUsQ-Q",
    "papermill": {
     "duration": 0.007811,
     "end_time": "2020-08-28T08:08:11.514109",
     "exception": false,
     "start_time": "2020-08-28T08:08:11.506298",
     "status": "completed"
    },
    "tags": []
   },
   "source": [
    " ## Importing kaggle Data Train_Val Set"
   ]
  },
  {
   "cell_type": "markdown",
   "execution_count": null,
   "metadata": {
    "papermill": {
     "duration": 0.007547,
     "end_time": "2020-08-28T08:08:11.529599",
     "exception": false,
     "start_time": "2020-08-28T08:08:11.522052",
     "status": "completed"
    },
    "tags": []
   },
   "source": [
    "### Use /tmp to create temporary folder"
   ]
  },
  {
   "cell_type": "code",
   "execution_count": 5,
   "metadata": {
    "execution": {
     "iopub.execute_input": "2020-08-28T08:08:11.551526Z",
     "iopub.status.busy": "2020-08-28T08:08:11.550594Z",
     "iopub.status.idle": "2020-08-28T08:08:12.350937Z",
     "shell.execute_reply": "2020-08-28T08:08:12.350211Z"
    },
    "papermill": {
     "duration": 0.813433,
     "end_time": "2020-08-28T08:08:12.351076",
     "exception": false,
     "start_time": "2020-08-28T08:08:11.537643",
     "status": "completed"
    },
    "tags": []
   },
   "outputs": [
    {
     "name": "stdout",
     "output_type": "stream",
     "text": [
      "bin   entrypoint.sh  kaggle  media  proc  run_jupyter.sh  srv  usr\r\n",
      "boot  etc\t     lib     mnt    root  sbin\t\t  sys  var\r\n",
      "dev   home\t     lib64   opt    run   src\t\t  tmp\r\n"
     ]
    }
   ],
   "source": [
    "!ls /"
   ]
  },
  {
   "cell_type": "code",
   "execution_count": 6,
   "metadata": {
    "execution": {
     "iopub.execute_input": "2020-08-28T08:08:12.380102Z",
     "iopub.status.busy": "2020-08-28T08:08:12.379087Z",
     "iopub.status.idle": "2020-08-28T08:08:13.123254Z",
     "shell.execute_reply": "2020-08-28T08:08:13.122568Z"
    },
    "id": "67SuSQWEs_TP",
    "papermill": {
     "duration": 0.764055,
     "end_time": "2020-08-28T08:08:13.123390",
     "exception": false,
     "start_time": "2020-08-28T08:08:12.359335",
     "status": "completed"
    },
    "tags": []
   },
   "outputs": [],
   "source": [
    "!mkdir /tmp/Xray_train_data"
   ]
  },
  {
   "cell_type": "code",
   "execution_count": 7,
   "metadata": {
    "execution": {
     "iopub.execute_input": "2020-08-28T08:08:13.147464Z",
     "iopub.status.busy": "2020-08-28T08:08:13.146438Z",
     "iopub.status.idle": "2020-08-28T08:08:16.418186Z",
     "shell.execute_reply": "2020-08-28T08:08:16.417243Z"
    },
    "id": "fGrAf9pptGEX",
    "papermill": {
     "duration": 3.28658,
     "end_time": "2020-08-28T08:08:16.418333",
     "exception": false,
     "start_time": "2020-08-28T08:08:13.131753",
     "status": "completed"
    },
    "tags": []
   },
   "outputs": [],
   "source": [
    "!cp -R \"../input/covid19-radiography-database/COVID-19 Radiography Database/COVID-19\" \"/tmp/Xray_train_data\""
   ]
  },
  {
   "cell_type": "code",
   "execution_count": 8,
   "metadata": {
    "execution": {
     "iopub.execute_input": "2020-08-28T08:08:16.448581Z",
     "iopub.status.busy": "2020-08-28T08:08:16.441879Z",
     "iopub.status.idle": "2020-08-28T08:08:33.530091Z",
     "shell.execute_reply": "2020-08-28T08:08:33.529380Z"
    },
    "id": "89UP3sUHtSc_",
    "papermill": {
     "duration": 17.1033,
     "end_time": "2020-08-28T08:08:33.530249",
     "exception": false,
     "start_time": "2020-08-28T08:08:16.426949",
     "status": "completed"
    },
    "tags": []
   },
   "outputs": [],
   "source": [
    "!cp -R \"../input/covid19-radiography-database/COVID-19 Radiography Database/NORMAL\" \"/tmp/Xray_train_data\""
   ]
  },
  {
   "cell_type": "code",
   "execution_count": 9,
   "metadata": {
    "execution": {
     "iopub.execute_input": "2020-08-28T08:08:33.554236Z",
     "iopub.status.busy": "2020-08-28T08:08:33.553445Z",
     "iopub.status.idle": "2020-08-28T08:08:34.303947Z",
     "shell.execute_reply": "2020-08-28T08:08:34.303170Z"
    },
    "papermill": {
     "duration": 0.764956,
     "end_time": "2020-08-28T08:08:34.304085",
     "exception": false,
     "start_time": "2020-08-28T08:08:33.539129",
     "status": "completed"
    },
    "tags": []
   },
   "outputs": [
    {
     "name": "stdout",
     "output_type": "stream",
     "text": [
      "COVID-19  NORMAL\r\n"
     ]
    }
   ],
   "source": [
    "!ls \"/tmp/Xray_train_data\""
   ]
  },
  {
   "cell_type": "code",
   "execution_count": 10,
   "metadata": {
    "execution": {
     "iopub.execute_input": "2020-08-28T08:08:34.332899Z",
     "iopub.status.busy": "2020-08-28T08:08:34.327373Z",
     "iopub.status.idle": "2020-08-28T08:08:35.099583Z",
     "shell.execute_reply": "2020-08-28T08:08:35.098926Z"
    },
    "papermill": {
     "duration": 0.787197,
     "end_time": "2020-08-28T08:08:35.099759",
     "exception": false,
     "start_time": "2020-08-28T08:08:34.312562",
     "status": "completed"
    },
    "tags": []
   },
   "outputs": [
    {
     "name": "stdout",
     "output_type": "stream",
     "text": [
      "219\r\n"
     ]
    }
   ],
   "source": [
    "!ls -1 \"/tmp/Xray_train_data/COVID-19\"| wc -l "
   ]
  },
  {
   "cell_type": "code",
   "execution_count": 11,
   "metadata": {
    "execution": {
     "iopub.execute_input": "2020-08-28T08:08:35.124652Z",
     "iopub.status.busy": "2020-08-28T08:08:35.123524Z",
     "iopub.status.idle": "2020-08-28T08:08:35.882451Z",
     "shell.execute_reply": "2020-08-28T08:08:35.881742Z"
    },
    "papermill": {
     "duration": 0.773847,
     "end_time": "2020-08-28T08:08:35.882600",
     "exception": false,
     "start_time": "2020-08-28T08:08:35.108753",
     "status": "completed"
    },
    "tags": []
   },
   "outputs": [
    {
     "name": "stdout",
     "output_type": "stream",
     "text": [
      "1341\r\n"
     ]
    }
   ],
   "source": [
    "!ls -1 \"/tmp/Xray_train_data/NORMAL\"| wc -l "
   ]
  },
  {
   "cell_type": "code",
   "execution_count": 12,
   "metadata": {
    "execution": {
     "iopub.execute_input": "2020-08-28T08:08:35.913671Z",
     "iopub.status.busy": "2020-08-28T08:08:35.912362Z",
     "iopub.status.idle": "2020-08-28T08:08:36.798965Z",
     "shell.execute_reply": "2020-08-28T08:08:36.798329Z"
    },
    "papermill": {
     "duration": 0.907732,
     "end_time": "2020-08-28T08:08:36.799105",
     "exception": false,
     "start_time": "2020-08-28T08:08:35.891373",
     "status": "completed"
    },
    "tags": []
   },
   "outputs": [],
   "source": [
    "# Deleting extra image\n",
    "!find \"/tmp/Xray_train_data/NORMAL\" -type f -print0 | sort -zR | tail -zn +220 | xargs -0 rm"
   ]
  },
  {
   "cell_type": "code",
   "execution_count": 13,
   "metadata": {
    "execution": {
     "iopub.execute_input": "2020-08-28T08:08:36.823636Z",
     "iopub.status.busy": "2020-08-28T08:08:36.822887Z",
     "iopub.status.idle": "2020-08-28T08:08:37.569115Z",
     "shell.execute_reply": "2020-08-28T08:08:37.568431Z"
    },
    "papermill": {
     "duration": 0.76119,
     "end_time": "2020-08-28T08:08:37.569264",
     "exception": false,
     "start_time": "2020-08-28T08:08:36.808074",
     "status": "completed"
    },
    "tags": []
   },
   "outputs": [
    {
     "name": "stdout",
     "output_type": "stream",
     "text": [
      "219\r\n"
     ]
    }
   ],
   "source": [
    "!ls -1 \"/tmp/Xray_train_data/NORMAL\"| wc -l "
   ]
  },
  {
   "cell_type": "markdown",
   "execution_count": null,
   "metadata": {
    "papermill": {
     "duration": 0.008631,
     "end_time": "2020-08-28T08:08:37.587047",
     "exception": false,
     "start_time": "2020-08-28T08:08:37.578416",
     "status": "completed"
    },
    "tags": []
   },
   "source": [
    "### To deal with imbalanced dataset, I just took a lazy way out."
   ]
  },
  {
   "cell_type": "markdown",
   "execution_count": null,
   "metadata": {
    "id": "Txo-Ok26yCnQ",
    "papermill": {
     "duration": 0.008475,
     "end_time": "2020-08-28T08:08:37.604652",
     "exception": false,
     "start_time": "2020-08-28T08:08:37.596177",
     "status": "completed"
    },
    "tags": []
   },
   "source": [
    "## **Starting Actual work**"
   ]
  },
  {
   "cell_type": "code",
   "execution_count": 14,
   "metadata": {
    "execution": {
     "iopub.execute_input": "2020-08-28T08:08:37.629106Z",
     "iopub.status.busy": "2020-08-28T08:08:37.628037Z",
     "iopub.status.idle": "2020-08-28T08:08:37.631925Z",
     "shell.execute_reply": "2020-08-28T08:08:37.631199Z"
    },
    "papermill": {
     "duration": 0.01833,
     "end_time": "2020-08-28T08:08:37.632086",
     "exception": false,
     "start_time": "2020-08-28T08:08:37.613756",
     "status": "completed"
    },
    "tags": []
   },
   "outputs": [],
   "source": [
    "train_data_dir= \"/tmp/Xray_train_data\""
   ]
  },
  {
   "cell_type": "code",
   "execution_count": 15,
   "metadata": {
    "execution": {
     "iopub.execute_input": "2020-08-28T08:08:37.665994Z",
     "iopub.status.busy": "2020-08-28T08:08:37.665156Z",
     "iopub.status.idle": "2020-08-28T08:08:37.871480Z",
     "shell.execute_reply": "2020-08-28T08:08:37.870794Z"
    },
    "papermill": {
     "duration": 0.23051,
     "end_time": "2020-08-28T08:08:37.871616",
     "exception": false,
     "start_time": "2020-08-28T08:08:37.641106",
     "status": "completed"
    },
    "tags": []
   },
   "outputs": [],
   "source": [
    "# Used Sequential\n",
    "model=tf.keras.Sequential()\n",
    "model.add(tf.keras.layers.Conv2D(8, (3,3), activation='relu', input_shape=(64, 64, 3)))\n",
    "model.add(tf.keras.layers.MaxPooling2D(pool_size=(2, 2), strides=None, padding=\"valid\"))\n",
    "model.add(tf.keras.layers.Conv2D(16, (3,3), activation='relu'))\n",
    "model.add(tf.keras.layers.MaxPooling2D(pool_size=(2, 2), strides=None, padding=\"valid\"))\n",
    "model.add(tf.keras.layers.Flatten())\n",
    "model.add(tf.keras.layers.Dense(32))\n",
    "model.add(tf.keras.layers.Dropout(.1, input_shape=(32,)))\n",
    "model.add(tf.keras.layers.Dense(1, activation='sigmoid'))"
   ]
  },
  {
   "cell_type": "code",
   "execution_count": 16,
   "metadata": {
    "execution": {
     "iopub.execute_input": "2020-08-28T08:08:37.903605Z",
     "iopub.status.busy": "2020-08-28T08:08:37.898971Z",
     "iopub.status.idle": "2020-08-28T08:08:37.911535Z",
     "shell.execute_reply": "2020-08-28T08:08:37.910922Z"
    },
    "papermill": {
     "duration": 0.030789,
     "end_time": "2020-08-28T08:08:37.911674",
     "exception": false,
     "start_time": "2020-08-28T08:08:37.880885",
     "status": "completed"
    },
    "tags": []
   },
   "outputs": [],
   "source": [
    "# Defining optimizer\n",
    "from tensorflow.keras.optimizers import Adam\n",
    "\n",
    "model.compile(optimizer=Adam(lr=0.0001),\n",
    "              loss='binary_crossentropy',\n",
    "              metrics = ['accuracy'])"
   ]
  },
  {
   "cell_type": "code",
   "execution_count": 17,
   "metadata": {
    "execution": {
     "iopub.execute_input": "2020-08-28T08:08:37.940141Z",
     "iopub.status.busy": "2020-08-28T08:08:37.939346Z",
     "iopub.status.idle": "2020-08-28T08:08:38.151107Z",
     "shell.execute_reply": "2020-08-28T08:08:38.150176Z"
    },
    "papermill": {
     "duration": 0.230393,
     "end_time": "2020-08-28T08:08:38.151283",
     "exception": false,
     "start_time": "2020-08-28T08:08:37.920890",
     "status": "completed"
    },
    "tags": []
   },
   "outputs": [
    {
     "name": "stdout",
     "output_type": "stream",
     "text": [
      "Found 308 images belonging to 2 classes.\n",
      "Found 130 images belonging to 2 classes.\n"
     ]
    }
   ],
   "source": [
    "# Directing Images to train folder\n",
    "from tensorflow.keras.preprocessing.image import ImageDataGenerator\n",
    "img_height, img_width=64,64\n",
    "batch_size=16\n",
    "train_datagen = ImageDataGenerator(validation_split=0.3) # set validation split\n",
    "\n",
    "train_generator = train_datagen.flow_from_directory(\n",
    "    train_data_dir,\n",
    "    target_size=(img_height, img_width),\n",
    "    batch_size=batch_size,\n",
    "    class_mode='binary',\n",
    "    subset='training') # set as training data\n",
    "# Splitting images for validation set\n",
    "validation_generator = train_datagen.flow_from_directory(\n",
    "    train_data_dir, # same directory as training data\n",
    "    target_size=(img_height, img_width),\n",
    "    batch_size=batch_size,\n",
    "    class_mode='binary',\n",
    "    subset='validation') # set as validation data\n"
   ]
  },
  {
   "cell_type": "code",
   "execution_count": 18,
   "metadata": {
    "execution": {
     "iopub.execute_input": "2020-08-28T08:08:38.177603Z",
     "iopub.status.busy": "2020-08-28T08:08:38.176868Z",
     "iopub.status.idle": "2020-08-28T08:10:32.825703Z",
     "shell.execute_reply": "2020-08-28T08:10:32.826415Z"
    },
    "papermill": {
     "duration": 114.665289,
     "end_time": "2020-08-28T08:10:32.826604",
     "exception": false,
     "start_time": "2020-08-28T08:08:38.161315",
     "status": "completed"
    },
    "tags": []
   },
   "outputs": [
    {
     "name": "stdout",
     "output_type": "stream",
     "text": [
      "Epoch 1/10\n",
      "20/20 - 12s - loss: 11.3663 - accuracy: 0.4675 - val_loss: 7.7408 - val_accuracy: 0.6000\n",
      "Epoch 2/10\n",
      "20/20 - 11s - loss: 4.5635 - accuracy: 0.7045 - val_loss: 3.5706 - val_accuracy: 0.7462\n",
      "Epoch 3/10\n",
      "20/20 - 11s - loss: 2.1495 - accuracy: 0.8149 - val_loss: 3.4849 - val_accuracy: 0.8077\n",
      "Epoch 4/10\n",
      "20/20 - 11s - loss: 1.6937 - accuracy: 0.8506 - val_loss: 1.9767 - val_accuracy: 0.8462\n",
      "Epoch 5/10\n",
      "20/20 - 11s - loss: 1.2325 - accuracy: 0.9026 - val_loss: 2.2108 - val_accuracy: 0.8462\n",
      "Epoch 6/10\n",
      "20/20 - 11s - loss: 0.8842 - accuracy: 0.8994 - val_loss: 1.3561 - val_accuracy: 0.9077\n",
      "Epoch 7/10\n",
      "20/20 - 11s - loss: 0.3735 - accuracy: 0.9351 - val_loss: 1.8989 - val_accuracy: 0.8615\n",
      "Epoch 8/10\n",
      "20/20 - 11s - loss: 0.3084 - accuracy: 0.9481 - val_loss: 0.9758 - val_accuracy: 0.9000\n",
      "Epoch 9/10\n",
      "20/20 - 11s - loss: 0.3495 - accuracy: 0.9383 - val_loss: 0.9359 - val_accuracy: 0.9000\n",
      "Epoch 10/10\n",
      "20/20 - 11s - loss: 0.1992 - accuracy: 0.9643 - val_loss: 0.7365 - val_accuracy: 0.9077\n"
     ]
    }
   ],
   "source": [
    "# Training the model\n",
    "trainer=model.fit(train_generator,validation_data=validation_generator,epochs=10,verbose=2)"
   ]
  },
  {
   "cell_type": "code",
   "execution_count": 19,
   "metadata": {
    "execution": {
     "iopub.execute_input": "2020-08-28T08:10:32.855392Z",
     "iopub.status.busy": "2020-08-28T08:10:32.854627Z",
     "iopub.status.idle": "2020-08-28T08:10:33.120479Z",
     "shell.execute_reply": "2020-08-28T08:10:33.119707Z"
    },
    "papermill": {
     "duration": 0.2832,
     "end_time": "2020-08-28T08:10:33.120613",
     "exception": false,
     "start_time": "2020-08-28T08:10:32.837413",
     "status": "completed"
    },
    "tags": []
   },
   "outputs": [
    {
     "data": {
      "text/plain": [
       "<matplotlib.legend.Legend at 0x7fe3d406fed0>"
      ]
     },
     "execution_count": 19,
     "metadata": {},
     "output_type": "execute_result"
    },
    {
     "data": {
      "image/png": "[encoded data removed]",
      "text/plain": [
       "<Figure size 720x360 with 1 Axes>"
      ]
     },
     "metadata": {
      "needs_background": "light"
     },
     "output_type": "display_data"
    }
   ],
   "source": [
    "# Plotting train_loss vs val_loss\n",
    "plt.figure(figsize=(10,5))\n",
    "plt.plot(trainer.history[\"loss\"],label=\"loss\")\n",
    "plt.plot(trainer.history[\"val_loss\"],label=\"val_loss\")\n",
    "plt.legend()"
   ]
  },
  {
   "cell_type": "code",
   "execution_count": 20,
   "metadata": {
    "execution": {
     "iopub.execute_input": "2020-08-28T08:10:33.155453Z",
     "iopub.status.busy": "2020-08-28T08:10:33.150517Z",
     "iopub.status.idle": "2020-08-28T08:10:33.324481Z",
     "shell.execute_reply": "2020-08-28T08:10:33.323875Z"
    },
    "papermill": {
     "duration": 0.192738,
     "end_time": "2020-08-28T08:10:33.324625",
     "exception": false,
     "start_time": "2020-08-28T08:10:33.131887",
     "status": "completed"
    },
    "tags": []
   },
   "outputs": [
    {
     "data": {
      "text/plain": [
       "<matplotlib.legend.Legend at 0x7fe3bc652710>"
      ]
     },
     "execution_count": 20,
     "metadata": {},
     "output_type": "execute_result"
    },
    {
     "data": {
      "image/png": "[encoded data removed]",
      "text/plain": [
       "<Figure size 720x360 with 1 Axes>"
      ]
     },
     "metadata": {
      "needs_background": "light"
     },
     "output_type": "display_data"
    }
   ],
   "source": [
    "# Plotting train_accuracy vs Val_accuracy\n",
    "plt.figure(figsize=(10,5))\n",
    "plt.plot(trainer.history[\"accuracy\"],label=\"accuracy\")\n",
    "plt.plot(trainer.history[\"val_accuracy\"],label=\"val_accuracy\")\n",
    "plt.legend(loc='upper left')"
   ]
  },
  {
   "cell_type": "markdown",
   "execution_count": null,
   "metadata": {
    "papermill": {
     "duration": 0.011086,
     "end_time": "2020-08-28T08:10:33.347402",
     "exception": false,
     "start_time": "2020-08-28T08:10:33.336316",
     "status": "completed"
    },
    "tags": []
   },
   "source": [
    "#### Version 3 doesnot have any significance update. Just updated some folder issue.\n",
    "#### Thanks to @sarques"
   ]
  },
  {
   "cell_type": "markdown",
   "execution_count": null,
   "metadata": {
    "papermill": {
     "duration": 0.011085,
     "end_time": "2020-08-28T08:10:33.370319",
     "exception": false,
     "start_time": "2020-08-28T08:10:33.359234",
     "status": "completed"
    },
    "tags": []
   },
   "source": [
    "## If helped, do give an upvote. It means a lot."
   ]
  }
 ],
 "metadata": {
  "kernelspec": {
   "display_name": "Python 3",
   "language": "python",
   "name": "python3"
  },
  "language_info": {
   "codemirror_mode": {
    "name": "ipython",
    "version": 3
   },
   "file_extension": ".py",
   "mimetype": "text/x-python",
   "name": "python",
   "nbconvert_exporter": "python",
   "pygments_lexer": "ipython3",
   "version": "3.7.6"
  },
  "papermill": {
   "duration": 154.957095,
   "end_time": "2020-08-28T08:10:33.490455",
   "environment_variables": {},
   "exception": null,
   "input_path": "__notebook__.ipynb",
   "output_path": "__notebook__.ipynb",
   "parameters": {},
   "start_time": "2020-08-28T08:07:58.533360",
   "version": "2.1.0"
  }
 },
 "nbformat": 4,
 "nbformat_minor": 4
}
